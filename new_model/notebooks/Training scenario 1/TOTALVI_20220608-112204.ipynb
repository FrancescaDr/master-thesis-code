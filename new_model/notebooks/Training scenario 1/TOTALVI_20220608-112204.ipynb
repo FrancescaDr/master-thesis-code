{
 "cells": [
  {
   "cell_type": "code",
   "execution_count": null,
   "metadata": {
    "pycharm": {
     "is_executing": false,
     "name": "#%%\n"
    }
   },
   "outputs": [],
   "source": [
    "import os\n",
    "print(os.getcwd())\n",
    "import sys  \n",
    "sys.path.insert(0, '/Users/franci/MasterThesis/multiomics-perturbation/new_model')\n",
    "from src_trainer.TOTALVI_model import TOTALVI\n",
    "import warnings"
   ]
  },
  {
   "cell_type": "markdown",
   "metadata": {},
   "source": [
    "## Import model"
   ]
  },
  {
   "cell_type": "code",
   "execution_count": null,
   "metadata": {
    "pycharm": {
     "is_executing": false,
     "name": "#%%\n"
    }
   },
   "outputs": [],
   "source": [
    "my_model = TOTALVI.load(\"../../input/{}_{}\".format('TOTALVI', '20220608-104642'))"
   ]
  },
  {
   "cell_type": "code",
   "execution_count": null,
   "metadata": {
    "pycharm": {
     "is_executing": false,
     "name": "#%%\n"
    }
   },
   "outputs": [],
   "source": [
    "print(my_model._model_summary_string)"
   ]
  },
  {
   "cell_type": "markdown",
   "metadata": {},
   "source": [
    "## Loss evaluation"
   ]
  },
  {
   "cell_type": "code",
   "execution_count": null,
   "metadata": {
    "pycharm": {
     "is_executing": false,
     "name": "#%%\n"
    }
   },
   "outputs": [],
   "source": [
    "from src_trainer.plotting import plot_single_value, plot_train_val\n",
    "\n",
    "args_elbo = {'var': \"elbo\",\n",
    "             'var_label': \"elbo\",\n",
    "             'ylim': None,\n",
    "             'modality': my_model.args['model_type']\n",
    "             }\n",
    "args_rl = {'var': \"reconstruction_loss\",\n",
    "           'var_label': \"rl\",\n",
    "           'ylim': None,\n",
    "           'modality': my_model.args['model_type']\n",
    "           }\n",
    "args_kld = {'var': \"kl_local\",\n",
    "            'var_label': \"kld\",\n",
    "            'ylim': None,\n",
    "            'modality': my_model.args['model_type']\n",
    "            }\n",
    "\n",
    "list_args = [args_elbo, args_rl, args_kld]\n",
    "\n",
    "for plot_args in list_args:\n",
    "    if my_model.args['check_val_every_n_epoch'] is not None:\n",
    "        plot_train_val(my_model, plot_args=plot_args, pdf=None)\n",
    "    else:\n",
    "        plot_single_value(my_model, plot_args, 'train')\n",
    "    print(\"Minimal {} train value: {} and val value: {}\".format(\n",
    "        plot_args['var'], \n",
    "        my_model.history['{}_train'.format(plot_args['var'])].iloc[-1],\n",
    "        my_model.history['{}_validation'.format(plot_args['var'])].iloc[-1],\n",
    "    ))"
   ]
  },
  {
   "cell_type": "markdown",
   "metadata": {},
   "source": [
    "# Evaluation reconstructions"
   ]
  },
  {
   "cell_type": "code",
   "execution_count": null,
   "metadata": {
    "pycharm": {
     "is_executing": false,
     "name": "#%%\n"
    }
   },
   "outputs": [],
   "source": [
    "from src_trainer.plotting import boxplot_corr, scatterplot_corr\n",
    "from scipy import sparse, stats\n",
    "import numpy as np\n",
    "import pickle\n",
    "\n",
    "cond_dict = {'group': 'LD',\n",
    "             'annotation_L1': None,\n",
    "             'condition': 'PI'}\n",
    "\n",
    "marker_dict = {'CD4T': [['CD3D', 'CD4'], ['CD3_ADT', 'CD4_ADT']],\n",
    "                'B': [['MS4A1', 'CD19', 'CD79A'], ['CD19_ADT', 'CD20_ADT']],\n",
    "                'Monocyte': [['S100A9', 'CD14'], ['CD14_ADT', 'CD16_ADT']]}\n",
    "\n",
    "col_conds = [{'PG': 'LD', 'ADJ': 'medium'}, \n",
    "             {'PG': 'DK', 'ADJ': 'medium'},\n",
    "             {'PG': 'RT', 'ADJ': 'medium'},\n",
    "             {'PG': 'LD', 'ADJ': 'PI'},\n",
    "             {'PG': 'DK', 'ADJ': 'PI'},\n",
    "             {'PG': 'RT', 'ADJ': 'PI'}]\n",
    "\n",
    "\n",
    "#all_markers = my_model.adata.var_names\n",
    "#data = my_model.adata.copy()"
   ]
  },
  {
   "cell_type": "markdown",
   "metadata": {},
   "source": [
    "## Spearman correlations\n",
    "\n",
    "### Posterior sampling"
   ]
  },
  {
   "cell_type": "code",
   "execution_count": null,
   "metadata": {},
   "outputs": [],
   "source": [
    "filename = '../../results/y_pred_1/{}_{}_{}_{}.pickle'.format(my_model.args['model_type'], my_model.args['model_name'],\n",
    "                                                     'posterior', 'RNA')\n",
    "    \n",
    "with open(filename, 'rb') as handle:\n",
    "    y_pred_dict = pickle.load(handle) "
   ]
  },
  {
   "cell_type": "code",
   "execution_count": null,
   "metadata": {
    "pycharm": {
     "is_executing": true,
     "name": "#%% \n"
    }
   },
   "outputs": [],
   "source": [
    "for key, [yt_m, yt_v, yp_m, yp_v] in y_pred_dict.items():\n",
    "    print(key)\n",
    "    txt = \"Correlation for population group, cell type, perturbation: {}\".format(key)\n",
    "    scatterplot_corr(yt_m, yt_v, yp_m, yp_v, txt)\n",
    "    "
   ]
  },
  {
   "cell_type": "markdown",
   "metadata": {},
   "source": [
    "Plot ranks"
   ]
  },
  {
   "cell_type": "code",
   "execution_count": null,
   "metadata": {
    "pycharm": {
     "is_executing": false,
     "name": "#%% \n"
    }
   },
   "outputs": [],
   "source": [
    "for key, [yt_m, yt_v, yp_m, yp_v] in y_pred_dict.items():\n",
    "    yt_m_r = stats.rankdata(yt_m)\n",
    "    yt_v_r = stats.rankdata(yt_v)\n",
    "    yp_m_r = stats.rankdata(yp_m)\n",
    "    yp_v_r = stats.rankdata(yp_v)\n",
    "    txt = \"Correlation for population group, cell type, perturbation: {}\".format(key)\n",
    "    scatterplot_corr(yt_m_r, yt_v_r, yp_m_r, yp_v_r, txt)\n",
    "    idx = np.argmax(yt_m)\n",
    "\n",
    "    #print(\"The gene with the highest rank is in true is: {} and pred: {}\".format(self.all_markers[np.argmax(yt_m)], self.all_markers[np.argmax(yp_m)]))"
   ]
  },
  {
   "cell_type": "code",
   "execution_count": null,
   "metadata": {
    "pycharm": {
     "is_executing": false,
     "name": "#%%\n"
    }
   },
   "outputs": [],
   "source": [
    "boxplot_corr('../../results/csv_1_RNA/{}_{}_{}_{}'.format(my_model.args['model_type'], my_model.args['model_name'], 'posterior', 'RNA'), \n",
    "             col_conds, \n",
    "             score = \"corr_mean\")"
   ]
  },
  {
   "cell_type": "markdown",
   "metadata": {},
   "source": [
    "### Prior sampling"
   ]
  },
  {
   "cell_type": "code",
   "execution_count": null,
   "metadata": {},
   "outputs": [],
   "source": [
    "filename = '../../results/y_pred_1/{}_{}_{}_{}.pickle'.format(my_model.args['model_type'], my_model.args['model_name'],\n",
    "                                                     'prior', 'RNA')\n",
    "    \n",
    "with open(filename, 'rb') as handle:\n",
    "    y_pred_dict = pickle.load(handle) "
   ]
  },
  {
   "cell_type": "code",
   "execution_count": null,
   "metadata": {
    "pycharm": {
     "is_executing": true,
     "name": "#%%\n"
    }
   },
   "outputs": [],
   "source": [
    "for key, [yt_m, yt_v, yp_m, yp_v] in y_pred_dict.items():\n",
    "    print(key)\n",
    "    txt = \"Correlation for population group, cell type, perturbation: {}\".format(key)\n",
    "    scatterplot_corr(yt_m, yt_v, yp_m, yp_v, txt)\n",
    "    "
   ]
  },
  {
   "cell_type": "code",
   "execution_count": null,
   "metadata": {},
   "outputs": [],
   "source": [
    "for key, [yt_m, yt_v, yp_m, yp_v] in y_pred_dict.items():\n",
    "    yt_m_r = stats.rankdata(yt_m)\n",
    "    yt_v_r = stats.rankdata(yt_v)\n",
    "    yp_m_r = stats.rankdata(yp_m)\n",
    "    yp_v_r = stats.rankdata(yp_v)\n",
    "    txt = \"Correlation for population group, cell type, perturbation: {}\".format(key)\n",
    "    scatterplot_corr(yt_m_r, yt_v_r, yp_m_r, yp_v_r, txt)\n",
    "    idx = np.argmax(yt_m)\n",
    "\n",
    "    #print(\"The gene with the highest rank is in true is: {} and pred: {}\".format(self.all_markers[np.argmax(yt_m)], self.all_markers[np.argmax(yp_m)]))"
   ]
  },
  {
   "cell_type": "code",
   "execution_count": null,
   "metadata": {
    "pycharm": {
     "is_executing": false,
     "name": "#%%\n"
    }
   },
   "outputs": [],
   "source": [
    "boxplot_corr('../../results/csv_1_RNA/{}_{}_{}_{}'.format(my_model.args['model_type'], my_model.args['model_name'], 'prior', 'RNA'), \n",
    "             col_conds, \n",
    "             score = \"corr_mean\")"
   ]
  },
  {
   "cell_type": "markdown",
   "metadata": {},
   "source": [
    "### Transfer sampling"
   ]
  },
  {
   "cell_type": "code",
   "execution_count": null,
   "metadata": {
    "pycharm": {
     "is_executing": false,
     "name": "#%%\n"
    }
   },
   "outputs": [],
   "source": [
    "filename = '../../results/y_pred_1/{}_{}_{}_{}.pickle'.format(my_model.args['model_type'], my_model.args['model_name'],\n",
    "                                                     'transfer', 'RNA')\n",
    "    \n",
    "with open(filename, 'rb') as handle:\n",
    "    y_pred_dict = pickle.load(handle) "
   ]
  },
  {
   "cell_type": "code",
   "execution_count": null,
   "metadata": {},
   "outputs": [],
   "source": [
    "for key, [yt_m, yt_v, yp_m, yp_v] in y_pred_dict.items():\n",
    "    print(key)\n",
    "    txt = \"Correlation for population group, cell type, perturbation: {}\".format(key)\n",
    "    scatterplot_corr(yt_m, yt_v, yp_m, yp_v, txt)"
   ]
  },
  {
   "cell_type": "code",
   "execution_count": null,
   "metadata": {},
   "outputs": [],
   "source": [
    "for key, [yt_m, yt_v, yp_m, yp_v] in y_pred_dict.items():\n",
    "    yt_m_r = stats.rankdata(yt_m)\n",
    "    yt_v_r = stats.rankdata(yt_v)\n",
    "    yp_m_r = stats.rankdata(yp_m)\n",
    "    yp_v_r = stats.rankdata(yp_v)\n",
    "    txt = \"Correlation for population group, cell type, perturbation: {}\".format(key)\n",
    "    scatterplot_corr(yt_m_r, yt_v_r, yp_m_r, yp_v_r, txt)\n",
    "    idx = np.argmax(yt_m)\n",
    "\n",
    "    #print(\"The gene with the highest rank is in true is: {} and pred: {}\".format(self.all_markers[np.argmax(yt_m)], self.all_markers[np.argmax(yp_m)]))"
   ]
  },
  {
   "cell_type": "code",
   "execution_count": null,
   "metadata": {
    "pycharm": {
     "is_executing": false,
     "name": "#%%\n"
    }
   },
   "outputs": [],
   "source": [
    "boxplot_corr('../../results/csv_1_RNA/{}_{}_{}_{}'.format(my_model.args['model_type'], my_model.args['model_name'], 'transfer', 'RNA'), \n",
    "             col_conds, \n",
    "             score = \"corr_mean\")"
   ]
  },
  {
   "cell_type": "code",
   "execution_count": null,
   "metadata": {},
   "outputs": [],
   "source": []
  }
 ],
 "metadata": {
  "kernelspec": {
   "display_name": "PyCharm (new_model)",
   "language": "python",
   "name": "pycharm-85f18771"
  },
  "language_info": {
   "codemirror_mode": {
    "name": "ipython",
    "version": 3
   },
   "file_extension": ".py",
   "mimetype": "text/x-python",
   "name": "python",
   "nbconvert_exporter": "python",
   "pygments_lexer": "ipython3",
   "version": "3.9.7"
  },
  "pycharm": {
   "stem_cell": {
    "cell_type": "raw",
    "metadata": {
     "collapsed": false
    },
    "source": []
   }
  }
 },
 "nbformat": 4,
 "nbformat_minor": 1
}
