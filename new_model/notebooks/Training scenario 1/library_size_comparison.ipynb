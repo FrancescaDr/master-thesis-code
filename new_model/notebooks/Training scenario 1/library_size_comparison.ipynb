{
 "cells": [
  {
   "cell_type": "code",
   "execution_count": 1,
   "metadata": {
    "pycharm": {
     "is_executing": false,
     "name": "#%%\n"
    }
   },
   "outputs": [
    {
     "name": "stdout",
     "output_type": "stream",
     "text": [
      "/Users/franci/MasterThesis/multiomics-perturbation/new_model/notebooks/Training scenario 1\n"
     ]
    },
    {
     "name": "stderr",
     "output_type": "stream",
     "text": [
      "Global seed set to 0\n"
     ]
    }
   ],
   "source": [
    "import os\n",
    "print(os.getcwd())\n",
    "import sys  \n",
    "sys.path.insert(0, '/Users/franci/MasterThesis/multiomics-perturbation/new_model')\n",
    "from src_trainer.SCVI_model import SCVI\n",
    "import warnings"
   ]
  },
  {
   "cell_type": "markdown",
   "metadata": {},
   "source": [
    "# All models comparison\n",
    "\n",
    "Compare correlation spread for library size of 1 and 7.\n",
    "\n",
    "## LS = 1"
   ]
  },
  {
   "cell_type": "code",
   "execution_count": null,
   "metadata": {},
   "outputs": [],
   "source": [
    "model_type_dict = {\"SCVI_RNA_ls1\": \"20220608-091026\",\n",
    "                   \"TOTALVI_ls1\": \"20220608-104642\", \n",
    "                   \"MMVAE_ls1\": \"20220608-162535\"\n",
    "                  }"
   ]
  },
  {
   "cell_type": "code",
   "execution_count": null,
   "metadata": {},
   "outputs": [],
   "source": [
    "for d in col_conds:\n",
    "    print(\"All genes\")\n",
    "    boxplot_grouped_corr(model_type_dict,\n",
    "                         ['prior'],\n",
    "                         d,\n",
    "                         score=\"corr_mean\",\n",
    "                         folder = \"csv_1_RNA\")"
   ]
  },
  {
   "cell_type": "code",
   "execution_count": null,
   "metadata": {},
   "outputs": [],
   "source": [
    "for model_type, model_name in model_type_dict.items():\n",
    "    print(model_type)\n",
    "    results = average_corr_mean_condition(\"csv_1_RNA\", \n",
    "                                        model_type, \n",
    "                                        model_name, \n",
    "                                        ['prior'], \n",
    "                                        condition='ADJ',\n",
    "                                        score = \"corr_mean\", \n",
    "                                        modality=\"RNA\")\n",
    "    print(results)\n",
    "    results = average_corr_mean_condition(\"csv_1_RNA\", \n",
    "                                        model_type, \n",
    "                                        model_name, \n",
    "                                        ['prior'], \n",
    "                                        condition='PG',\n",
    "                                        score = \"corr_mean\", \n",
    "                                        modality=\"RNA\")\n",
    "    print(results)\n",
    "    results = average_corr_mean_condition(\"csv_1_RNA\", \n",
    "                                        model_type, \n",
    "                                        model_name, \n",
    "                                        ['prior'], \n",
    "                                        condition='CT',\n",
    "                                        score = \"corr_mean\", \n",
    "                                        modality=\"RNA\")\n",
    "    print(results)"
   ]
  },
  {
   "cell_type": "markdown",
   "metadata": {},
   "source": [
    "## LS = 7"
   ]
  },
  {
   "cell_type": "code",
   "execution_count": null,
   "metadata": {},
   "outputs": [],
   "source": [
    "model_type_dict = {\"SCVI_RNA_ls7\": \"20220608-091026\",\n",
    "                   \"TOTALVI_ls7\": \"20220608-104642\", \n",
    "                   \"MMVAE_ls7\": \"20220608-162535\"\n",
    "                  }"
   ]
  },
  {
   "cell_type": "code",
   "execution_count": null,
   "metadata": {},
   "outputs": [],
   "source": [
    "for d in col_conds:\n",
    "    print(\"All genes\")\n",
    "    boxplot_grouped_corr(model_type_dict,\n",
    "                         ['prior'],\n",
    "                         d,\n",
    "                         score=\"corr_mean\",\n",
    "                         folder = \"csv_1_RNA\")"
   ]
  },
  {
   "cell_type": "code",
   "execution_count": null,
   "metadata": {},
   "outputs": [],
   "source": [
    "for model_type, model_name in model_type_dict.items():\n",
    "    print(model_type)\n",
    "    results = average_corr_mean_condition(\"csv_1_RNA\", \n",
    "                                        model_type, \n",
    "                                        model_name, \n",
    "                                        ['prior'], \n",
    "                                        condition='ADJ',\n",
    "                                        score = \"corr_mean\", \n",
    "                                        modality=\"RNA\")\n",
    "    print(results)\n",
    "    results = average_corr_mean_condition(\"csv_1_RNA\", \n",
    "                                        model_type, \n",
    "                                        model_name, \n",
    "                                        ['prior'], \n",
    "                                        condition='PG',\n",
    "                                        score = \"corr_mean\", \n",
    "                                        modality=\"RNA\")\n",
    "    print(results)\n",
    "    results = average_corr_mean_condition(\"csv_1_RNA\", \n",
    "                                        model_type, \n",
    "                                        model_name, \n",
    "                                        ['prior'], \n",
    "                                        condition='CT',\n",
    "                                        score = \"corr_mean\", \n",
    "                                        modality=\"RNA\")\n",
    "    print(results)"
   ]
  },
  {
   "cell_type": "markdown",
   "metadata": {},
   "source": [
    "## Plot influence of library size"
   ]
  },
  {
   "cell_type": "code",
   "execution_count": 2,
   "metadata": {},
   "outputs": [
    {
     "name": "stdout",
     "output_type": "stream",
     "text": [
      "Mu: [0.26185416666666667, 0.3622708333333333, 0.7241875000000001, 0.9185625000000001, 0.9517291666666668], sigma: [0.1091752426115499, 0.14034270207183092, 0.1794807707651939, 0.1026549490469397, 0.07463036276274751]\n",
      "Mu: [0.25402083333333336, 0.35545833333333327, 0.7169583333333334, 0.9091666666666667, 0.9411458333333332], sigma: [0.1094081737938615, 0.13957167888257022, 0.18276190281502155, 0.109015972543034, 0.08169402946577313]\n",
      "Mu: [nan, 0.25775, 0.40377083333333336, 0.4706874999999999, 0.5161666666666668], sigma: [nan, 0.11026476839379008, 0.15131540113474032, 0.1675228985618181, 0.17397607237452295]\n"
     ]
    },
    {
     "data": {
      "image/png": "[encoded data removed]",
      "text/plain": [
       "<Figure size 432x288 with 1 Axes>"
      ]
     },
     "metadata": {
      "needs_background": "light"
     },
     "output_type": "display_data"
    }
   ],
   "source": [
    "from src_trainer.plotting import plot_library_size\n",
    "\n",
    "model_type_dict = {\"MMVAE\": \"20220608-162535\",\n",
    "                    \"SCVI_RNA\": \"20220608-091026\",\n",
    "                   \"TOTALVI\": \"20220608-104642\", \n",
    "                   \n",
    "                  }\n",
    "model_labels = ['MMVI', 'scVI', 'totalVI']\n",
    "library_sizes = [0, 1, 4, 7, 10]\n",
    "color_list = ['g', 'y', 'brown']\n",
    "\n",
    "plot_library_size(\"csv_1_RNA\", model_type_dict, library_sizes, color_list, modality=\"RNA\", model_labels=model_labels)"
   ]
  },
  {
   "cell_type": "code",
   "execution_count": 4,
   "metadata": {},
   "outputs": [
    {
     "name": "stdout",
     "output_type": "stream",
     "text": [
      "Mu: [0.7060625000000001, 0.8204166666666666, 0.9662499999999999, 0.9857083333333333, 0.9868958333333334], sigma: [0.2047311060827649, 0.1664156336422975, 0.04497398775367919, 0.02149711344634024, 0.02004806944951264]\n"
     ]
    },
    {
     "data": {
      "image/png": "[encoded data removed]",
      "text/plain": [
       "<Figure size 432x288 with 1 Axes>"
      ]
     },
     "metadata": {
      "needs_background": "light"
     },
     "output_type": "display_data"
    }
   ],
   "source": [
    "from src_trainer.plotting import plot_library_size\n",
    "\n",
    "model_type_dict = {\n",
    "                   \"MMVAE\": \"20220608-162535\"\n",
    "                  }\n",
    "library_sizes = [0, 1, 4, 7, 10]\n",
    "color_list = ['g', 'y', 'brown']\n",
    "\n",
    "plot_library_size(\"csv_1_protein\", model_type_dict, library_sizes, color_list, modality=\"protein\", model_labels=model_labels)"
   ]
  },
  {
   "cell_type": "markdown",
   "metadata": {},
   "source": [
    "# SCVI\n",
    "\n",
    "Compare correlation mean spread for different library sizes"
   ]
  },
  {
   "cell_type": "code",
   "execution_count": null,
   "metadata": {},
   "outputs": [],
   "source": [
    "filename = '../../results/y_pred_1_RNA_ls1/{}_{}_{}_{}.pickle'.format(my_model.args['model_type'], my_model.args['model_name'],\n",
    "                                                     'posterior', 'RNA')\n",
    "    \n",
    "with open(filename, 'rb') as handle:\n",
    "    y_pred_dict = pickle.load(handle) "
   ]
  },
  {
   "cell_type": "code",
   "execution_count": null,
   "metadata": {},
   "outputs": [],
   "source": [
    "for key, [yt_m, yt_v, yp_m, yp_v] in y_pred_dict.items():\n",
    "    print(key)\n",
    "    txt = \"Correlation for population group, cell type, perturbation: {}\".format(key)\n",
    "    scatterplot_corr(yt_m, yt_v, yp_m, yp_v, txt)"
   ]
  },
  {
   "cell_type": "code",
   "execution_count": null,
   "metadata": {},
   "outputs": [],
   "source": [
    "filename = '../../results/y_pred_1_RNA_ls7/{}_{}_{}_{}.pickle'.format(my_model.args['model_type'], my_model.args['model_name'],\n",
    "                                                     'posterior', 'RNA')\n",
    "    \n",
    "with open(filename, 'rb') as handle:\n",
    "    y_pred_dict = pickle.load(handle) "
   ]
  },
  {
   "cell_type": "code",
   "execution_count": null,
   "metadata": {},
   "outputs": [],
   "source": [
    "for key, [yt_m, yt_v, yp_m, yp_v] in y_pred_dict.items():\n",
    "    print(key)\n",
    "    txt = \"Correlation for population group, cell type, perturbation: {}\".format(key)\n",
    "    scatterplot_corr(yt_m, yt_v, yp_m, yp_v, txt)"
   ]
  }
 ],
 "metadata": {
  "kernelspec": {
   "display_name": "PyCharm (new_model)",
   "language": "python",
   "name": "pycharm-85f18771"
  },
  "language_info": {
   "codemirror_mode": {
    "name": "ipython",
    "version": 3
   },
   "file_extension": ".py",
   "mimetype": "text/x-python",
   "name": "python",
   "nbconvert_exporter": "python",
   "pygments_lexer": "ipython3",
   "version": "3.9.7"
  },
  "pycharm": {
   "stem_cell": {
    "cell_type": "raw",
    "metadata": {
     "collapsed": false
    },
    "source": []
   }
  }
 },
 "nbformat": 4,
 "nbformat_minor": 1
}
