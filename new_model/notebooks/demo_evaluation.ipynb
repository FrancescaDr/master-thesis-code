{
 "cells": [
  {
   "cell_type": "code",
   "execution_count": 2,
   "metadata": {
    "pycharm": {
     "is_executing": false,
     "name": "#%%\n"
    }
   },
   "outputs": [
    {
     "name": "stdout",
     "text": [
      "/Users/franci/MasterThesis/multiomics-perturbation/new_model/notebooks\n"
     ],
     "output_type": "stream"
    },
    {
     "traceback": [
      "\u001b[0;31m---------------------------------------------------------------------------\u001b[0m",
      "\u001b[0;31mImportError\u001b[0m                               Traceback (most recent call last)",
      "\u001b[0;32m/var/folders/78/d81z0vg1077_6n7r7ny_6dww0000gn/T/ipykernel_44746/1476053947.py\u001b[0m in \u001b[0;36m<module>\u001b[0;34m\u001b[0m\n\u001b[1;32m      9\u001b[0m \u001b[0;32mimport\u001b[0m \u001b[0mnumpy\u001b[0m \u001b[0;32mas\u001b[0m \u001b[0mnp\u001b[0m\u001b[0;34m\u001b[0m\u001b[0;34m\u001b[0m\u001b[0m\n\u001b[1;32m     10\u001b[0m \u001b[0;34m\u001b[0m\u001b[0m\n\u001b[0;32m---> 11\u001b[0;31m \u001b[0;32mfrom\u001b[0m \u001b[0msrc_trainer\u001b[0m\u001b[0;34m.\u001b[0m\u001b[0mplotting\u001b[0m \u001b[0;32mimport\u001b[0m \u001b[0mplot_train_val\u001b[0m\u001b[0;34m,\u001b[0m \u001b[0mplot_HVG\u001b[0m\u001b[0;34m,\u001b[0m \u001b[0mplot_single_value\u001b[0m\u001b[0;34m,\u001b[0m \u001b[0mplot_marker_expression\u001b[0m\u001b[0;34m,\u001b[0m \u001b[0mload_anndata\u001b[0m\u001b[0;34m,\u001b[0m \u001b[0mreconstruct_data\u001b[0m\u001b[0;34m,\u001b[0m \u001b[0mplot_gene_embeddings\u001b[0m\u001b[0;34m\u001b[0m\u001b[0;34m\u001b[0m\u001b[0m\n\u001b[0m\u001b[1;32m     12\u001b[0m \u001b[0;32mfrom\u001b[0m \u001b[0msrc_trainer\u001b[0m\u001b[0;34m.\u001b[0m\u001b[0mnew_train\u001b[0m \u001b[0;32mimport\u001b[0m \u001b[0mMyModelClass\u001b[0m\u001b[0;34m,\u001b[0m \u001b[0mprepare_data\u001b[0m\u001b[0;34m\u001b[0m\u001b[0;34m\u001b[0m\u001b[0m\n\u001b[1;32m     13\u001b[0m \u001b[0;32mfrom\u001b[0m \u001b[0msrc_trainer\u001b[0m\u001b[0;34m.\u001b[0m\u001b[0mtrain\u001b[0m \u001b[0;32mimport\u001b[0m \u001b[0mtrain\u001b[0m\u001b[0;34m,\u001b[0m \u001b[0mevaluation\u001b[0m\u001b[0;34m,\u001b[0m \u001b[0mSCVI\u001b[0m\u001b[0;34m,\u001b[0m \u001b[0mprepare_evaluation\u001b[0m\u001b[0;34m\u001b[0m\u001b[0;34m\u001b[0m\u001b[0m\n",
      "\u001b[0;32m~/MasterThesis/multiomics-perturbation/new_model/src_trainer/plotting.py\u001b[0m in \u001b[0;36m<module>\u001b[0;34m\u001b[0m\n\u001b[1;32m      3\u001b[0m \u001b[0;32mimport\u001b[0m \u001b[0mnumpy\u001b[0m \u001b[0;32mas\u001b[0m \u001b[0mnp\u001b[0m\u001b[0;34m\u001b[0m\u001b[0;34m\u001b[0m\u001b[0m\n\u001b[1;32m      4\u001b[0m \u001b[0;32mimport\u001b[0m \u001b[0mpickle\u001b[0m\u001b[0;34m\u001b[0m\u001b[0;34m\u001b[0m\u001b[0m\n\u001b[0;32m----> 5\u001b[0;31m \u001b[0;32mfrom\u001b[0m \u001b[0msrc_trainer\u001b[0m\u001b[0;34m.\u001b[0m\u001b[0mnew_train\u001b[0m \u001b[0;32mimport\u001b[0m \u001b[0mMyModelClass\u001b[0m\u001b[0;34m\u001b[0m\u001b[0;34m\u001b[0m\u001b[0m\n\u001b[0m\u001b[1;32m      6\u001b[0m \u001b[0;32mimport\u001b[0m \u001b[0mscanpy\u001b[0m \u001b[0;32mas\u001b[0m \u001b[0msc\u001b[0m\u001b[0;34m\u001b[0m\u001b[0;34m\u001b[0m\u001b[0m\n\u001b[1;32m      7\u001b[0m \u001b[0;32mfrom\u001b[0m \u001b[0manndata\u001b[0m \u001b[0;32mimport\u001b[0m \u001b[0mAnnData\u001b[0m\u001b[0;34m\u001b[0m\u001b[0;34m\u001b[0m\u001b[0m\n",
      "\u001b[0;32m~/MasterThesis/multiomics-perturbation/new_model/src_trainer/new_train.py\u001b[0m in \u001b[0;36m<module>\u001b[0;34m\u001b[0m\n\u001b[1;32m      1\u001b[0m \u001b[0;32mfrom\u001b[0m \u001b[0mtyping\u001b[0m \u001b[0;32mimport\u001b[0m \u001b[0mList\u001b[0m\u001b[0;34m,\u001b[0m \u001b[0mOptional\u001b[0m\u001b[0;34m,\u001b[0m \u001b[0mSequence\u001b[0m\u001b[0;34m\u001b[0m\u001b[0;34m\u001b[0m\u001b[0m\n\u001b[0;32m----> 2\u001b[0;31m \u001b[0;32mfrom\u001b[0m \u001b[0manndata\u001b[0m \u001b[0;32mimport\u001b[0m \u001b[0mAnnData\u001b[0m\u001b[0;34m\u001b[0m\u001b[0;34m\u001b[0m\u001b[0m\n\u001b[0m\u001b[1;32m      3\u001b[0m \u001b[0;32mfrom\u001b[0m \u001b[0mscvi\u001b[0m\u001b[0;34m.\u001b[0m\u001b[0mmodel\u001b[0m\u001b[0;34m.\u001b[0m\u001b[0mbase\u001b[0m \u001b[0;32mimport\u001b[0m \u001b[0mBaseModelClass\u001b[0m\u001b[0;34m,\u001b[0m \u001b[0mUnsupervisedTrainingMixin\u001b[0m\u001b[0;34m\u001b[0m\u001b[0;34m\u001b[0m\u001b[0m\n\u001b[1;32m      4\u001b[0m \u001b[0;31m#from scvi.data._anndata import _setup_anndata\u001b[0m\u001b[0;34m\u001b[0m\u001b[0;34m\u001b[0m\u001b[0;34m\u001b[0m\u001b[0m\n\u001b[1;32m      5\u001b[0m \u001b[0;32mfrom\u001b[0m \u001b[0mscvi\u001b[0m\u001b[0;34m.\u001b[0m\u001b[0mdata\u001b[0m \u001b[0;32mimport\u001b[0m \u001b[0mAnnDataManager\u001b[0m\u001b[0;34m\u001b[0m\u001b[0;34m\u001b[0m\u001b[0m\n",
      "\u001b[0;32m~/.conda/envs/CPA/lib/python3.7/site-packages/anndata/__init__.py\u001b[0m in \u001b[0;36m<module>\u001b[0;34m\u001b[0m\n\u001b[0;32m----> 1\u001b[0;31m \u001b[0;32mfrom\u001b[0m \u001b[0;34m.\u001b[0m\u001b[0mcore\u001b[0m\u001b[0;34m.\u001b[0m\u001b[0manndata\u001b[0m \u001b[0;32mimport\u001b[0m \u001b[0mAnnData\u001b[0m\u001b[0;34m,\u001b[0m \u001b[0mRaw\u001b[0m\u001b[0;34m\u001b[0m\u001b[0;34m\u001b[0m\u001b[0m\n\u001b[0m\u001b[1;32m      2\u001b[0m from .readwrite import (\n\u001b[1;32m      3\u001b[0m     \u001b[0mread_h5ad\u001b[0m\u001b[0;34m,\u001b[0m \u001b[0mread_loom\u001b[0m\u001b[0;34m,\u001b[0m \u001b[0mread_hdf\u001b[0m\u001b[0;34m,\u001b[0m\u001b[0;34m\u001b[0m\u001b[0;34m\u001b[0m\u001b[0m\n\u001b[1;32m      4\u001b[0m     \u001b[0mread_excel\u001b[0m\u001b[0;34m,\u001b[0m \u001b[0mread_umi_tools\u001b[0m\u001b[0;34m,\u001b[0m\u001b[0;34m\u001b[0m\u001b[0;34m\u001b[0m\u001b[0m\n\u001b[1;32m      5\u001b[0m     \u001b[0mread_csv\u001b[0m\u001b[0;34m,\u001b[0m \u001b[0mread_text\u001b[0m\u001b[0;34m,\u001b[0m \u001b[0mread_mtx\u001b[0m\u001b[0;34m,\u001b[0m\u001b[0;34m\u001b[0m\u001b[0;34m\u001b[0m\u001b[0m\n",
      "\u001b[0;32m~/.conda/envs/CPA/lib/python3.7/site-packages/anndata/core/anndata.py\u001b[0m in \u001b[0;36m<module>\u001b[0;34m\u001b[0m\n\u001b[1;32m     46\u001b[0m     \u001b[0mLayersBase\u001b[0m\u001b[0;34m,\u001b[0m \u001b[0mLayers\u001b[0m\u001b[0;34m\u001b[0m\u001b[0;34m\u001b[0m\u001b[0m\n\u001b[1;32m     47\u001b[0m )\n\u001b[0;32m---> 48\u001b[0;31m \u001b[0;32mfrom\u001b[0m \u001b[0;34m.\u001b[0m\u001b[0;34m.\u001b[0m \u001b[0;32mimport\u001b[0m \u001b[0mh5py\u001b[0m\u001b[0;34m\u001b[0m\u001b[0;34m\u001b[0m\u001b[0m\n\u001b[0m\u001b[1;32m     49\u001b[0m \u001b[0;32mfrom\u001b[0m \u001b[0;34m.\u001b[0m\u001b[0mviews\u001b[0m \u001b[0;32mimport\u001b[0m \u001b[0mArrayView\u001b[0m\u001b[0;34m,\u001b[0m \u001b[0mSparseCSRView\u001b[0m\u001b[0;34m,\u001b[0m \u001b[0mSparseCSCView\u001b[0m\u001b[0;34m,\u001b[0m \u001b[0mDictView\u001b[0m\u001b[0;34m,\u001b[0m \u001b[0mDataFrameView\u001b[0m\u001b[0;34m\u001b[0m\u001b[0;34m\u001b[0m\u001b[0m\n\u001b[1;32m     50\u001b[0m \u001b[0;34m\u001b[0m\u001b[0m\n",
      "\u001b[0;32m~/.conda/envs/CPA/lib/python3.7/site-packages/anndata/h5py/__init__.py\u001b[0m in \u001b[0;36m<module>\u001b[0;34m\u001b[0m\n\u001b[1;32m     22\u001b[0m    \u001b[0mSparseDataset\u001b[0m\u001b[0;34m\u001b[0m\u001b[0;34m\u001b[0m\u001b[0m\n\u001b[1;32m     23\u001b[0m \"\"\"\n\u001b[0;32m---> 24\u001b[0;31m \u001b[0;32mfrom\u001b[0m \u001b[0;34m.\u001b[0m\u001b[0mh5sparse\u001b[0m \u001b[0;32mimport\u001b[0m \u001b[0mFile\u001b[0m\u001b[0;34m,\u001b[0m \u001b[0mGroup\u001b[0m\u001b[0;34m,\u001b[0m \u001b[0mSparseDataset\u001b[0m\u001b[0;34m,\u001b[0m \u001b[0m_load_h5_dataset_as_sparse\u001b[0m\u001b[0;34m\u001b[0m\u001b[0;34m\u001b[0m\u001b[0m\n\u001b[0m\u001b[1;32m     25\u001b[0m \u001b[0;32mfrom\u001b[0m \u001b[0mh5py\u001b[0m \u001b[0;32mimport\u001b[0m \u001b[0mDataset\u001b[0m\u001b[0;34m,\u001b[0m \u001b[0mspecial_dtype\u001b[0m\u001b[0;34m\u001b[0m\u001b[0;34m\u001b[0m\u001b[0m\n\u001b[1;32m     26\u001b[0m \u001b[0;34m\u001b[0m\u001b[0m\n",
      "\u001b[0;32m~/.conda/envs/CPA/lib/python3.7/site-packages/anndata/h5py/h5sparse.py\u001b[0m in \u001b[0;36m<module>\u001b[0;34m\u001b[0m\n\u001b[1;32m     10\u001b[0m \u001b[0;34m\u001b[0m\u001b[0m\n\u001b[1;32m     11\u001b[0m \u001b[0;32mfrom\u001b[0m \u001b[0;34m.\u001b[0m\u001b[0;34m.\u001b[0m\u001b[0mutils\u001b[0m \u001b[0;32mimport\u001b[0m \u001b[0munpack_index\u001b[0m\u001b[0;34m\u001b[0m\u001b[0;34m\u001b[0m\u001b[0m\n\u001b[0;32m---> 12\u001b[0;31m \u001b[0;32mfrom\u001b[0m \u001b[0;34m.\u001b[0m\u001b[0;34m.\u001b[0m\u001b[0mcompat\u001b[0m \u001b[0;32mimport\u001b[0m \u001b[0mPathLike\u001b[0m\u001b[0;34m\u001b[0m\u001b[0;34m\u001b[0m\u001b[0m\n\u001b[0m\u001b[1;32m     13\u001b[0m \u001b[0;34m\u001b[0m\u001b[0m\n\u001b[1;32m     14\u001b[0m \u001b[0;32mfrom\u001b[0m \u001b[0;34m.\u001b[0m\u001b[0mutils\u001b[0m \u001b[0;32mimport\u001b[0m \u001b[0m_chunked_rows\u001b[0m\u001b[0;34m\u001b[0m\u001b[0;34m\u001b[0m\u001b[0m\n",
      "\u001b[0;31mImportError\u001b[0m: cannot import name 'PathLike' from 'anndata.compat' (/Users/franci/.conda/envs/CPA/lib/python3.7/site-packages/anndata/compat/__init__.py)"
     ],
     "ename": "ImportError",
     "evalue": "cannot import name 'PathLike' from 'anndata.compat' (/Users/franci/.conda/envs/CPA/lib/python3.7/site-packages/anndata/compat/__init__.py)",
     "output_type": "error"
    }
   ],
   "source": [
    "import sys\n",
    "sys.path.append(\"../\")\n",
    "\n",
    "import os\n",
    "current_path = os.getcwd()\n",
    "print(current_path)\n",
    "\n",
    "import pickle\n",
    "import numpy as np\n",
    "\n",
    "from src_trainer.plotting import plot_train_val, plot_HVG, plot_single_value, plot_marker_expression, load_anndata, reconstruct_data, plot_gene_embeddings\n",
    "from src_trainer.new_train import MyModelClass, prepare_data \n",
    "from src_trainer.train import train, evaluation, SCVI, prepare_evaluation"
   ]
  },
  {
   "cell_type": "markdown",
   "metadata": {
    "pycharm": {
     "name": "#%% md\n"
    }
   },
   "source": [
    "# Evaluation of Trained model\n",
    "\n",
    "This is a guide focused on the evaluation of a trained model. \n",
    "The file provides following evaluation possibilities: \n",
    "\n",
    "- Plot history of model (train and valdiation loss)\n",
    "- Compare predicted embeddings of the model to the original data embeddings for specific conditions(cell type, perturbation condition and population group) "
   ]
  },
  {
   "cell_type": "markdown",
   "metadata": {
    "pycharm": {
     "is_executing": false,
     "name": "#%% md\n"
    }
   },
   "source": [
    "## Load the model arguments"
   ]
  },
  {
   "cell_type": "code",
   "execution_count": 2,
   "metadata": {
    "pycharm": {
     "is_executing": false,
     "name": "#%% \n"
    }
   },
   "outputs": [
    {
     "traceback": [
      "\u001b[0;31m---------------------------------------------------------------------------\u001b[0m",
      "\u001b[0;31mNameError\u001b[0m                                 Traceback (most recent call last)",
      "\u001b[0;32m/var/folders/78/d81z0vg1077_6n7r7ny_6dww0000gn/T/ipykernel_36180/2767316670.py\u001b[0m in \u001b[0;36m<module>\u001b[0;34m\u001b[0m\n\u001b[1;32m      1\u001b[0m \u001b[0mmodel_name\u001b[0m \u001b[0;34m=\u001b[0m \u001b[0;34m'20220319-120228'\u001b[0m\u001b[0;34m\u001b[0m\u001b[0;34m\u001b[0m\u001b[0m\n\u001b[1;32m      2\u001b[0m \u001b[0;34m\u001b[0m\u001b[0m\n\u001b[0;32m----> 3\u001b[0;31m \u001b[0mmy_model\u001b[0m \u001b[0;34m=\u001b[0m \u001b[0mSCVI\u001b[0m\u001b[0;34m.\u001b[0m\u001b[0mload\u001b[0m\u001b[0;34m(\u001b[0m\u001b[0;34m\"../input/model_{}\"\u001b[0m\u001b[0;34m.\u001b[0m\u001b[0mformat\u001b[0m\u001b[0;34m(\u001b[0m\u001b[0mmodel_name\u001b[0m\u001b[0;34m)\u001b[0m\u001b[0;34m)\u001b[0m\u001b[0;34m\u001b[0m\u001b[0;34m\u001b[0m\u001b[0m\n\u001b[0m\u001b[1;32m      4\u001b[0m \u001b[0;32mwith\u001b[0m \u001b[0mopen\u001b[0m\u001b[0;34m(\u001b[0m\u001b[0;34m'../input/model_{}/{}_args.pickle'\u001b[0m\u001b[0;34m.\u001b[0m\u001b[0mformat\u001b[0m\u001b[0;34m(\u001b[0m\u001b[0mmodel_name\u001b[0m\u001b[0;34m,\u001b[0m \u001b[0mmodel_name\u001b[0m\u001b[0;34m)\u001b[0m\u001b[0;34m,\u001b[0m \u001b[0;34m'rb'\u001b[0m\u001b[0;34m)\u001b[0m \u001b[0;32mas\u001b[0m \u001b[0mhandle\u001b[0m\u001b[0;34m:\u001b[0m\u001b[0;34m\u001b[0m\u001b[0;34m\u001b[0m\u001b[0m\n\u001b[1;32m      5\u001b[0m     \u001b[0mmodel_args\u001b[0m \u001b[0;34m=\u001b[0m \u001b[0mpickle\u001b[0m\u001b[0;34m.\u001b[0m\u001b[0mload\u001b[0m\u001b[0;34m(\u001b[0m\u001b[0mhandle\u001b[0m\u001b[0;34m)\u001b[0m\u001b[0;34m\u001b[0m\u001b[0;34m\u001b[0m\u001b[0m\n",
      "\u001b[0;31mNameError\u001b[0m: name 'SCVI' is not defined"
     ],
     "ename": "NameError",
     "evalue": "name 'SCVI' is not defined",
     "output_type": "error"
    }
   ],
   "source": [
    "model_name = '20220319-120228'\n",
    "\n",
    "my_model = SCVI.load(\"../input/model_{}\".format(model_name))\n",
    "with open('../input/model_{}/{}_args.pickle'.format(model_name, model_name), 'rb') as handle:\n",
    "    model_args = pickle.load(handle)\n",
    "\n",
    "print(model_args)"
   ]
  },
  {
   "cell_type": "markdown",
   "metadata": {
    "pycharm": {
     "is_executing": false,
     "name": "#%% md\n"
    }
   },
   "source": [
    "## Load trained model"
   ]
  },
  {
   "cell_type": "code",
   "execution_count": null,
   "metadata": {
    "pycharm": {
     "is_executing": false,
     "name": "#%% \n"
    }
   },
   "outputs": [],
   "source": [
    "if not model_args['save_anndata']:\n",
    "    splits, dataset = prepare_data(model_args)\n",
    "    adata = dataset.data[dataset.indices[\"train/val\"]].copy()\n",
    "    \n",
    "my_model = SCVI.load(\"../input/model_{}\".format(model_name))\n",
    "\n",
    "print(my_model.summary_stats)\n",
    "print(my_model.history)\n"
   ]
  },
  {
   "cell_type": "markdown",
   "metadata": {
    "pycharm": {
     "is_executing": false,
     "name": "#%% md\n"
    }
   },
   "source": [
    "## Loss \n",
    "\n",
    "Define the arguments to plot as dictionary where: \n",
    "\n",
    "- var: name in history to plot \n",
    "- var_label: label used for plot (y-axis)\n",
    "- ylim: tuple indicating range for y-axis, if None then all values included\n",
    "- modality: modality used to for model trianing (either RNA, protein, or CITEseq)"
   ]
  },
  {
   "cell_type": "code",
   "execution_count": null,
   "metadata": {
    "pycharm": {
     "is_executing": false,
     "name": "#%% \n"
    }
   },
   "outputs": [],
   "source": [
    "args_elbo = {'var': \"elbo\",\n",
    "             'var_label': \"elbo\",\n",
    "             'ylim': None,\n",
    "             'modality': model_args['modality']\n",
    "             }\n",
    "args_rl = {'var': \"reconstruction_loss\",\n",
    "           'var_label': \"rl\",\n",
    "           'ylim': None,\n",
    "           'modality': model_args['modality']\n",
    "           }\n",
    "args_kld = {'var': \"kl_local\",\n",
    "           'var_label': \"kld\",\n",
    "           'ylim': None,\n",
    "           'modality': model_args['modality']\n",
    "           }\n",
    "\n",
    "list_args = [args_elbo, args_rl, args_kld]\n",
    "\n",
    "for plot_args in list_args:\n",
    "    if model_args['check_val_every_n_epoch'] is not None:\n",
    "        plot_train_val(my_model, model_name, plot_args)\n",
    "    else:\n",
    "        plot_single_value(my_model, model_name, plot_args, 'train')"
   ]
  },
  {
   "cell_type": "markdown",
   "metadata": {
    "pycharm": {
     "name": "#%% md\n"
    }
   },
   "source": [
    "# Embeddings\n",
    "\n",
    "Plot embeddings from original data and sampled from the trained model. \n",
    "The embeddings are plotted for specified covariates: \n",
    "\n",
    "Print possible covariates from data.\n",
    "\n",
    "- cell_type: \n",
    "- pert_cond: \n",
    "- pop_group: \n"
   ]
  },
  {
   "cell_type": "markdown",
   "metadata": {
    "pycharm": {
     "is_executing": false,
     "name": "#%% md\n"
    }
   },
   "source": [
    "## Marker genes\n",
    "\n",
    "Mikhael expecation: \n",
    "\n",
    "Lineage markers for CD4T cells:\n",
    "- RNA: CD3D, CD4\n",
    "- ADT: CD3, CD4,\n",
    "\n",
    "In CD4T cells, you should not find expression for the following:\n",
    "\n",
    "- RNA: MS4A1, CD19, CD79A (B cell markers) S100A9, CD14 (Monocyte markers)\n",
    "- ADT: CD19, CD20 (B cell markers) CD14, CD16 (Monocyte markers).\n",
    "\n",
    "Regarding stimulation response, I would expect to see upregulation of the following\n",
    "\n",
    "- RNA: IFNG, TNF, IL4, IL5, IL13\n",
    "- ADT: CD69, CD62L\n",
    "\n",
    "For difference across the groups in response to stimulation, we should see a decreasing trend in gene counts from RT to DK to LD for the RNAs I listed above. \n",
    "So those RNA should be produced by all groups, but to a varying degree."
   ]
  },
  {
   "cell_type": "code",
   "execution_count": null,
   "metadata": {
    "pycharm": {
     "is_executing": false,
     "name": "#%% \n"
    }
   },
   "outputs": [],
   "source": [
    "marker_genes_dict = {'CD4T': ['CD3D', 'CD4'],\n",
    "                     'B': ['MS4A1', 'CD19', 'CD79A'],\n",
    "                     'Monocytes': ['S100A9', 'CD14']}\n",
    "\n",
    "marker_proteins_dict = {'CD4T': ['CD3', 'CD4'],\n",
    "                         'B': ['CD19', 'CD20'],\n",
    "                         'Monocytes': ['CD14', 'CD16']}\n",
    "\n",
    "pert_cond = 'medium'\n",
    "pop_group = 'RT'"
   ]
  },
  {
   "cell_type": "markdown",
   "metadata": {
    "pycharm": {
     "is_executing": false,
     "name": "#%% md\n"
    }
   },
   "source": [
    "### Posterior predictive sampling gene markers "
   ]
  },
  {
   "cell_type": "code",
   "execution_count": null,
   "metadata": {
    "pycharm": {
     "is_executing": false,
     "name": "#%% \n"
    }
   },
   "outputs": [],
   "source": [
    "all_genes = my_model.adata.var_names\n",
    "\n",
    "for cell_type, markers_list in marker_genes_dict.items():\n",
    "        for marker in markers_list:\n",
    "            gene_mask = np.where([True if gene in marker else False for gene in all_genes])[0].tolist()\n",
    "            if not np.any(gene_mask):\n",
    "                print(\"Gene marker {} not in data\".format(marker))\n",
    "                continue\n",
    "            my_model, org_x, recon_x, adata_subset, new_adata = prepare_evaluation(my_model,\n",
    "                                                                                   cell_type,\n",
    "                                                                                   pop_group,\n",
    "                                                                                   pert_cond,\n",
    "                                                                                   sample_dist='posterior',\n",
    "                                                                                   n_sample=1,\n",
    "                                                                                   marker_list=[marker])\n",
    "\n",
    "            plot_marker_expression(org_x, recon_x, model_args['modality'], [marker])\n",
    "            plot_gene_embeddings(adata_subset, new_adata, my_model, '20220319-120015', cell_type,\n",
    "                                 marker_genes=[marker])\n",
    "    "
   ]
  },
  {
   "cell_type": "code",
   "execution_count": null,
   "metadata": {
    "pycharm": {
     "name": "#%% md \n",
     "is_executing": false
    }
   },
   "outputs": [],
   "source": [
    "### Highly-variable genes"
   ]
  },
  {
   "cell_type": "code",
   "execution_count": null,
   "metadata": {
    "pycharm": {
     "is_executing": false,
     "name": "#%%\n"
    }
   },
   "outputs": [],
   "source": [
    "for cell_type, _ in marker_genes_dict.items():\n",
    "    org_adata = load_anndata(model_name, pert_cond, cell_type, pop_group)\n",
    "    my_model, new_adata = reconstruct_data(model_name, cell_type, pert_cond, pop_group, n_samples = 1000)\n",
    "    plot_HVG(org_adata, new_adata, my_model, n_top_genes=10)\n"
   ]
  },
  {
   "cell_type": "markdown",
   "metadata": {
    "pycharm": {
     "is_executing": false,
     "name": "#%% md\n"
    }
   },
   "source": [
    "### Plot protein markers"
   ]
  },
  {
   "cell_type": "markdown",
   "metadata": {
    "pycharm": {
     "name": "#%% md\n"
    }
   },
   "source": []
  }
 ],
 "metadata": {
  "kernelspec": {
   "name": "pycharm-85f18771",
   "language": "python",
   "display_name": "PyCharm (new_model)"
  },
  "language_info": {
   "codemirror_mode": {
    "name": "ipython",
    "version": 3
   },
   "file_extension": ".py",
   "mimetype": "text/x-python",
   "name": "python",
   "nbconvert_exporter": "python",
   "pygments_lexer": "ipython3",
   "version": "3.9.5"
  },
  "pycharm": {
   "stem_cell": {
    "cell_type": "raw",
    "source": [],
    "metadata": {
     "collapsed": false
    }
   }
  }
 },
 "nbformat": 4,
 "nbformat_minor": 1
}